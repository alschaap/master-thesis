{
 "cells": [
  {
   "cell_type": "code",
   "execution_count": 1,
   "metadata": {},
   "outputs": [],
   "source": [
    "import numpy as np\n",
    "import subprocess\n",
    "import os\n",
    "from Bio import SeqIO\n",
    "from joblib import Parallel, delayed\n",
    "import multiprocessing as mp\n",
    "from datetime import datetime"
   ]
  },
  {
   "cell_type": "code",
   "execution_count": 47,
   "metadata": {},
   "outputs": [],
   "source": [
    "# Functions\n",
    "\n",
    "def oneHot(residue):\n",
    "    mapping = dict(zip(\"ACDEFGHIKLMNPQRSTVWY\", range(20)))\n",
    "    if residue in \"ACDEFGHIKLMNPQRSTVWY\":\n",
    "        return np.eye(20)[mapping[residue]]\n",
    "    else:\n",
    "        return np.zeros(20)\n",
    "    \n",
    "    \n",
    "def reverseOneHot(encoding):\n",
    "    mapping = dict(zip(range(20),\"ACDEFGHIKLMNPQRSTVWY\"))\n",
    "    seq=''\n",
    "    for i in range(len(encoding)):\n",
    "        if np.max(encoding[i])>0:\n",
    "            seq+=mapping[np.argmax(encoding[i])]\n",
    "    return seq\n",
    "\n",
    "def extract_seq_pdb(pdb_path):\n",
    "    pdb_sequence = SeqIO.parse(open(pdb_path), 'pdb-atom')\n",
    "    sequences = []\n",
    "    chains = []\n",
    "    total_length = 0\n",
    "    for chain in pdb_sequence:\n",
    "        sequences.append(str(chain.seq))\n",
    "        total_length += len(str(chain.seq))\n",
    "        chains.append(chain.id.replace('????:', ''))\n",
    "    return sequence, chains, total_length\n",
    "\n",
    "def run_foldx(model):\n",
    "    os.chdir('/home/ida/foldx')\n",
    "\n",
    "    # RepairPDB\n",
    "    repair_command = \"./foldx --command=RepairPDB --pdb={} --ionStrength=0.05 --pH=7 --water=CRYSTAL --vdwDesign=2 --out-pdb=1 --pdbHydrogens=false\".format(model)\n",
    "    #subprocess.run(repair_command.split(),\n",
    "    #                    stdout=subprocess.PIPE, universal_newlines=True)\n",
    "    \n",
    "    # AnalyseComplex\n",
    "    analyse_command = \"./foldx --command=AnalyseComplex --pdb=\" + model.replace(\".pdb\", \"_Repair.pdb\")\n",
    "    subprocess.run(analyse_command.split(),\n",
    "                        stdout=subprocess.PIPE, universal_newlines=True)\n",
    "\n",
    "def extract_foldx_energies(foldx_output_path):\n",
    "    foldx_output = open(foldx_output_path, \"r\")\n",
    "    foldx_interaction_energies = dict()\n",
    "    for line in foldx_output:\n",
    "        if line.startswith(\"./\"):\n",
    "            splitted_line = line.split(\"\\t\")\n",
    "            group1 = splitted_line[1]\n",
    "            group2 = splitted_line[2]\n",
    "            interaction_energy = splitted_line[6]\n",
    "            foldx_interaction_energies[group1+group2] = float(interaction_energy)    \n",
    "    return foldx_interaction_energies\n",
    "    \n",
    "def create_output(pdb_path, foldx_interaction_energies):\n",
    "    # one-hot AA, chain?, foldx_MP, foldx_MA, foldx_MB, foldx_PA, foldx_PB, foldx_AB, \n",
    "    # Rosetta_res_tors, Rosetta_tot_tors, Rosetta_res_cart, Rosetta_res_cart, Rosetta_indiv...\n",
    "    \n",
    "    # Extract sequence from PDB\n",
    "    sequence, chains, total_length = extract_seq_pdb(pdb_path)\n",
    "    \n",
    "    # Create output_array\n",
    "    output_array = np.empty(shape=(nrows,26))\n",
    "    k1 = 0\n",
    "    k2 = 0\n",
    "    for chain in sequences:\n",
    "        #output_array[0:len(chain), 20] = chains[k1]\n",
    "        #k1 += 1\n",
    "        for aminoacid in chain:\n",
    "            output_array[k2,0:20] = oneHot(aminoacid)\n",
    "            output_array[k2,20:27] = list(foldx_interaction_energies.values())\n",
    "            k2 += 1\n",
    "    \n",
    "    return output_array\n",
    "\n",
    "def pipeline(model):\n",
    "    \n",
    "    # TCRpMHCmodels\n",
    "    \n",
    "    # FoldX\n",
    "    run_foldx(model)\n",
    "    \n",
    "    # Extract foldX energies\n",
    "    foldx_interaction_path = \"Interaction_\" + model.replace(\".pdb\", \"_Repair_AC.fxout\")\n",
    "    foldx_interaction_energies = extract_foldx_energies(foldx_interaction_path)\n",
    "\n",
    "    # Rosetta\n",
    "    \n",
    "    # Extract Rosetta energies\n",
    "    \n",
    "    # Create output\n",
    "    model_path = \"/home/ida/foldx/\" + model\n",
    "    output_array = create_output(model_path, foldx_interaction_energies)\n",
    "    \n",
    "    return output_array\n",
    "    "
   ]
  },
  {
   "cell_type": "code",
   "execution_count": 48,
   "metadata": {},
   "outputs": [
    {
     "name": "stderr",
     "output_type": "stream",
     "text": [
      "/home/ida/anaconda3/lib/python3.8/site-packages/Bio/PDB/PDBParser.py:395: PDBConstructionWarning: Ignoring unrecognized record 'END' at line 3243\n",
      "  warnings.warn(\n",
      "/home/ida/anaconda3/lib/python3.8/site-packages/Bio/SeqIO/PdbIO.py:303: BiopythonParserWarning: 'HEADER' line not found; can't determine PDB ID.\n",
      "  warnings.warn(\n",
      "/home/ida/anaconda3/lib/python3.8/site-packages/Bio/PDB/PDBParser.py:395: PDBConstructionWarning: Ignoring unrecognized record 'END' at line 3243\n",
      "  warnings.warn(\n",
      "/home/ida/anaconda3/lib/python3.8/site-packages/Bio/SeqIO/PdbIO.py:303: BiopythonParserWarning: 'HEADER' line not found; can't determine PDB ID.\n",
      "  warnings.warn(\n",
      "/home/ida/anaconda3/lib/python3.8/site-packages/Bio/PDB/PDBParser.py:395: PDBConstructionWarning: Ignoring unrecognized record 'END' at line 3243\n",
      "  warnings.warn(\n",
      "/home/ida/anaconda3/lib/python3.8/site-packages/Bio/SeqIO/PdbIO.py:303: BiopythonParserWarning: 'HEADER' line not found; can't determine PDB ID.\n",
      "  warnings.warn(\n",
      "/home/ida/anaconda3/lib/python3.8/site-packages/Bio/PDB/PDBParser.py:395: PDBConstructionWarning: Ignoring unrecognized record 'END' at line 3243\n",
      "  warnings.warn(\n",
      "/home/ida/anaconda3/lib/python3.8/site-packages/Bio/SeqIO/PdbIO.py:303: BiopythonParserWarning: 'HEADER' line not found; can't determine PDB ID.\n",
      "  warnings.warn(\n"
     ]
    },
    {
     "ename": "NameError",
     "evalue": "name 'sequence' is not defined",
     "output_type": "error",
     "traceback": [
      "\u001b[0;31m---------------------------------------------------------------------------\u001b[0m",
      "\u001b[0;31mRemoteTraceback\u001b[0m                           Traceback (most recent call last)",
      "\u001b[0;31mRemoteTraceback\u001b[0m: \n\"\"\"\nTraceback (most recent call last):\n  File \"/home/ida/anaconda3/lib/python3.8/multiprocessing/pool.py\", line 125, in worker\n    result = (True, func(*args, **kwds))\n  File \"/home/ida/anaconda3/lib/python3.8/multiprocessing/pool.py\", line 48, in mapstar\n    return list(map(*args))\n  File \"<ipython-input-47-47a22de4137c>\", line 92, in pipeline\n    output_array = create_output(\"/home/ida/foldx/5men_model_TCR-pMHC.pdb\", foldx_interaction_energies)\n  File \"<ipython-input-47-47a22de4137c>\", line 60, in create_output\n    sequence, chains, total_length = extract_seq_pdb(pdb_path)\n  File \"<ipython-input-47-47a22de4137c>\", line 28, in extract_seq_pdb\n    return sequence, chains, total_length\nNameError: name 'sequence' is not defined\n\"\"\"",
      "\nThe above exception was the direct cause of the following exception:\n",
      "\u001b[0;31mNameError\u001b[0m                                 Traceback (most recent call last)",
      "\u001b[0;32m<ipython-input-48-49cd06957e89>\u001b[0m in \u001b[0;36m<module>\u001b[0;34m\u001b[0m\n\u001b[1;32m      5\u001b[0m \u001b[0;34m\u001b[0m\u001b[0m\n\u001b[1;32m      6\u001b[0m \u001b[0mresults\u001b[0m \u001b[0;34m=\u001b[0m \u001b[0;34m[\u001b[0m\u001b[0;34m]\u001b[0m\u001b[0;34m\u001b[0m\u001b[0;34m\u001b[0m\u001b[0m\n\u001b[0;32m----> 7\u001b[0;31m \u001b[0mresults\u001b[0m\u001b[0;34m.\u001b[0m\u001b[0mappend\u001b[0m\u001b[0;34m(\u001b[0m\u001b[0mpool\u001b[0m\u001b[0;34m.\u001b[0m\u001b[0mmap\u001b[0m\u001b[0;34m(\u001b[0m\u001b[0mpipeline\u001b[0m\u001b[0;34m,\u001b[0m \u001b[0;34m[\u001b[0m\u001b[0mmodel\u001b[0m \u001b[0;32mfor\u001b[0m \u001b[0mmodel\u001b[0m \u001b[0;32min\u001b[0m \u001b[0mmodels\u001b[0m\u001b[0;34m]\u001b[0m\u001b[0;34m)\u001b[0m\u001b[0;34m)\u001b[0m\u001b[0;34m\u001b[0m\u001b[0;34m\u001b[0m\u001b[0m\n\u001b[0m\u001b[1;32m      8\u001b[0m \u001b[0;34m\u001b[0m\u001b[0m\n\u001b[1;32m      9\u001b[0m \u001b[0mpool\u001b[0m\u001b[0;34m.\u001b[0m\u001b[0mclose\u001b[0m\u001b[0;34m(\u001b[0m\u001b[0;34m)\u001b[0m\u001b[0;34m\u001b[0m\u001b[0;34m\u001b[0m\u001b[0m\n",
      "\u001b[0;32m~/anaconda3/lib/python3.8/multiprocessing/pool.py\u001b[0m in \u001b[0;36mmap\u001b[0;34m(self, func, iterable, chunksize)\u001b[0m\n\u001b[1;32m    362\u001b[0m         \u001b[0;32min\u001b[0m \u001b[0ma\u001b[0m \u001b[0mlist\u001b[0m \u001b[0mthat\u001b[0m \u001b[0;32mis\u001b[0m \u001b[0mreturned\u001b[0m\u001b[0;34m.\u001b[0m\u001b[0;34m\u001b[0m\u001b[0;34m\u001b[0m\u001b[0m\n\u001b[1;32m    363\u001b[0m         '''\n\u001b[0;32m--> 364\u001b[0;31m         \u001b[0;32mreturn\u001b[0m \u001b[0mself\u001b[0m\u001b[0;34m.\u001b[0m\u001b[0m_map_async\u001b[0m\u001b[0;34m(\u001b[0m\u001b[0mfunc\u001b[0m\u001b[0;34m,\u001b[0m \u001b[0miterable\u001b[0m\u001b[0;34m,\u001b[0m \u001b[0mmapstar\u001b[0m\u001b[0;34m,\u001b[0m \u001b[0mchunksize\u001b[0m\u001b[0;34m)\u001b[0m\u001b[0;34m.\u001b[0m\u001b[0mget\u001b[0m\u001b[0;34m(\u001b[0m\u001b[0;34m)\u001b[0m\u001b[0;34m\u001b[0m\u001b[0;34m\u001b[0m\u001b[0m\n\u001b[0m\u001b[1;32m    365\u001b[0m \u001b[0;34m\u001b[0m\u001b[0m\n\u001b[1;32m    366\u001b[0m     \u001b[0;32mdef\u001b[0m \u001b[0mstarmap\u001b[0m\u001b[0;34m(\u001b[0m\u001b[0mself\u001b[0m\u001b[0;34m,\u001b[0m \u001b[0mfunc\u001b[0m\u001b[0;34m,\u001b[0m \u001b[0miterable\u001b[0m\u001b[0;34m,\u001b[0m \u001b[0mchunksize\u001b[0m\u001b[0;34m=\u001b[0m\u001b[0;32mNone\u001b[0m\u001b[0;34m)\u001b[0m\u001b[0;34m:\u001b[0m\u001b[0;34m\u001b[0m\u001b[0;34m\u001b[0m\u001b[0m\n",
      "\u001b[0;32m~/anaconda3/lib/python3.8/multiprocessing/pool.py\u001b[0m in \u001b[0;36mget\u001b[0;34m(self, timeout)\u001b[0m\n\u001b[1;32m    769\u001b[0m             \u001b[0;32mreturn\u001b[0m \u001b[0mself\u001b[0m\u001b[0;34m.\u001b[0m\u001b[0m_value\u001b[0m\u001b[0;34m\u001b[0m\u001b[0;34m\u001b[0m\u001b[0m\n\u001b[1;32m    770\u001b[0m         \u001b[0;32melse\u001b[0m\u001b[0;34m:\u001b[0m\u001b[0;34m\u001b[0m\u001b[0;34m\u001b[0m\u001b[0m\n\u001b[0;32m--> 771\u001b[0;31m             \u001b[0;32mraise\u001b[0m \u001b[0mself\u001b[0m\u001b[0;34m.\u001b[0m\u001b[0m_value\u001b[0m\u001b[0;34m\u001b[0m\u001b[0;34m\u001b[0m\u001b[0m\n\u001b[0m\u001b[1;32m    772\u001b[0m \u001b[0;34m\u001b[0m\u001b[0m\n\u001b[1;32m    773\u001b[0m     \u001b[0;32mdef\u001b[0m \u001b[0m_set\u001b[0m\u001b[0;34m(\u001b[0m\u001b[0mself\u001b[0m\u001b[0;34m,\u001b[0m \u001b[0mi\u001b[0m\u001b[0;34m,\u001b[0m \u001b[0mobj\u001b[0m\u001b[0;34m)\u001b[0m\u001b[0;34m:\u001b[0m\u001b[0;34m\u001b[0m\u001b[0;34m\u001b[0m\u001b[0m\n",
      "\u001b[0;31mNameError\u001b[0m: name 'sequence' is not defined"
     ]
    }
   ],
   "source": [
    "# Calculate energy with FoldX\n",
    "models = [\"5men_model_TCR-pMHC.pdb\", \"5nmf_model_TCR-pMHC.pdb\", \"3tkf_model_TCR-pMHC.pdb\", \"5isz_model_TCR-pMHC.pdb\"]\n",
    "\n",
    "pool = mp.Pool(4)\n",
    "\n",
    "results = []\n",
    "results.append(pool.map(pipeline, [model for model in models]))\n",
    "\n",
    "pool.close()"
   ]
  },
  {
   "cell_type": "code",
   "execution_count": 43,
   "metadata": {},
   "outputs": [
    {
     "data": {
      "text/plain": [
       "array([ 0.      ,  0.      ,  0.      ,  1.      ,  0.      ,  0.      ,\n",
       "        0.      ,  0.      ,  0.      ,  0.      ,  0.      ,  0.      ,\n",
       "        0.      ,  0.      ,  0.      ,  0.      ,  0.      ,  0.      ,\n",
       "        0.      ,  0.      , -4.57047 , -0.925445, -2.24605 , -0.493195,\n",
       "        0.      , -1.554   ])"
      ]
     },
     "execution_count": 43,
     "metadata": {},
     "output_type": "execute_result"
    }
   ],
   "source": [
    "results[0][1][2]"
   ]
  },
  {
   "cell_type": "code",
   "execution_count": 5,
   "metadata": {},
   "outputs": [],
   "source": [
    "# Import input file\n",
    "\n",
    "fastas = [\"/home/ida/master-thesis/5nmf.fsa\", \"/home/ida/master-thesis/5nmf_mut.fsa\"]\n",
    "infilename = \"/home/ida/master-thesis/5nmf.fsa\"\n"
   ]
  },
  {
   "cell_type": "code",
   "execution_count": 6,
   "metadata": {},
   "outputs": [],
   "source": [
    "# Model complex with TCRpMHCmodels\n",
    "\n",
    "path_tcrpmhcmodels = \"/home/ida/TCRpMHCmodels/\"\n",
    "\n",
    "path_fasta = \"/home/ida/master-thesis/5nmf.fsa\"\n",
    "\n",
    "#subprocess.run([\"tcrpmhc_models\", \"-t\", path_fasta])\n",
    "\n",
    "# Move output pdb to foldx folder"
   ]
  },
  {
   "cell_type": "code",
   "execution_count": 7,
   "metadata": {},
   "outputs": [],
   "source": [
    "# Calculate energy Rosetta\n",
    "\n",
    "# Relax\n",
    "relax_command = \"relax.default.linuxgccrelease -s model_TCR-pMHC.pdb -nstruct 5 -relax:default_repeats 5 -out:path:pdb /home/people/idamei/relax_output -out:path:score /home/people/idamei/expeced_output\"\n",
    "# Relax cartesian\n",
    "relax_command = \"relax.default.linuxgccrelease -s model_TCR-pMHC.pdb -nstruct 5 -relax:default_repeats 5 -out:path:pdb /home/people/idamei/relax_output -out:path:score /home/people/idamei/expeced_output -relax:dualspace true\"\n",
    "\n",
    "# Score per residue\n",
    "per_res_command = \"per_residue_energies.linuxgccrelease -in:file:s /home/people/idamei/relax_output/model_TCR-pMHC_0001.pdb\"\n",
    "\n",
    "# Score\n",
    "score_command = \"score_jd2.linuxgccrelease -in:file:s /home/people/idamei/relax_output/model_TCR-pMHC_0001.pdb\""
   ]
  }
 ],
 "metadata": {
  "kernelspec": {
   "display_name": "Python 3",
   "language": "python",
   "name": "python3"
  },
  "language_info": {
   "codemirror_mode": {
    "name": "ipython",
    "version": 3
   },
   "file_extension": ".py",
   "mimetype": "text/x-python",
   "name": "python",
   "nbconvert_exporter": "python",
   "pygments_lexer": "ipython3",
   "version": "3.8.5"
  }
 },
 "nbformat": 4,
 "nbformat_minor": 4
}
