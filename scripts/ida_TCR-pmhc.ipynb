{
 "cells": [
  {
   "cell_type": "code",
   "execution_count": 1,
   "metadata": {},
   "outputs": [],
   "source": [
    "# Imports\n",
    "\n",
    "import numpy as np\n",
    "import matplotlib\n",
    "import matplotlib.pyplot as plt\n",
    "import glob\n",
    "import math\n",
    "import re\n",
    "from sklearn import metrics\n",
    "from sklearn.metrics import f1_score, accuracy_score\n",
    "from sklearn.metrics import plot_confusion_matrix\n",
    "from sklearn.metrics import roc_auc_score\n",
    "from sklearn.metrics import roc_curve, confusion_matrix\n",
    "\n",
    "import torch\n",
    "import torchvision\n",
    "import torch.nn as nn  # All neural network modules, nn.Linear, nn.Conv2d, BatchNorm, Loss functions\n",
    "import torch.optim as optim  # For all Optimization algorithms, SGD, Adam, etc.\n",
    "import torch.nn.functional as F  # All functions that don't have any parameters\n",
    "#from torch.utils.data import (\n",
    "#    DataLoader,\n",
    "#)  # Gives easier dataset managment and creates mini batches\n",
    "import torchvision.datasets as datasets  # Has standard datasets we can import in a nice way\n",
    "import torchvision.transforms as transforms  # Transformations we can perform on our dataset"
   ]
  },
  {
   "cell_type": "code",
   "execution_count": 2,
   "metadata": {},
   "outputs": [],
   "source": [
    "def pad(filename):\n",
    "    # Load array\n",
    "    original_array = np.load(filename)\n",
    "    # Divide into pMHC and TCR\n",
    "    pmhc = np.concatenate((original_array[original_array[:, 20] == 1], original_array[original_array[:, 21] == 1]))\n",
    "    tcr = np.concatenate((original_array[original_array[:, 22] == 1], original_array[original_array[:, 23] == 1]))\n",
    "    # Padding pMHC (only at the end)\n",
    "    padding_size = (192 - pmhc.shape[0])\n",
    "    end_pad = np.zeros((padding_size, pmhc.shape[1]))\n",
    "    pmhc_padded = np.concatenate((pmhc, end_pad))\n",
    "    # Padding TCR\n",
    "    padding_size = (228 - tcr.shape[0]) / 2\n",
    "    front_pad = np.zeros((math.floor(padding_size), tcr.shape[1]))\n",
    "    end_pad = np.zeros((math.ceil(padding_size), tcr.shape[1]))\n",
    "    tcr_padded = np.concatenate((front_pad, tcr, end_pad))\n",
    "    # Concatanate pMHC and TCR\n",
    "    array_padded = np.concatenate((pmhc_padded, tcr_padded))\n",
    "    return array_padded\n",
    "\n",
    "def load_data(filelist):\n",
    "    padded_length = 192 + 228\n",
    "    X = np.zeros(shape=(len(filelist), padded_length, 142))\n",
    "    y = np.zeros(shape=len(filelist))\n",
    "    for i in range(len(filelist)):\n",
    "        filename = filelist[i]\n",
    "        final_array = pad(filename)\n",
    "        X[i] = final_array\n",
    "        r = re.search(r'pos', filename)\n",
    "        if r:\n",
    "            y[i] = 1\n",
    "        else:\n",
    "            y[i] = 0\n",
    "    return X, y\n"
   ]
  },
  {
   "cell_type": "code",
   "execution_count": 3,
   "metadata": {},
   "outputs": [
    {
     "name": "stdout",
     "output_type": "stream",
     "text": [
      "300 420 142\n",
      "100 420 142\n"
     ]
    }
   ],
   "source": [
    "p1_filelist = glob.glob(\"../data/train_data/*1p*\")[:300]\n",
    "X_train, y_train = load_data(p1_filelist)\n",
    "#X_train_negatives = X_train[y_train == 0]\n",
    "#X_train_positives = X_train[y_train == 1]\n",
    "#y_train_negatives = y_train[y_train == 0]\n",
    "#y_train_positives = y_train[y_train == 1]\n",
    "#print(X_train_positives)\n",
    "#print(X_train_negatives[0:200].shape)\n",
    "#print(X_train_positives[0:10].shape)\n",
    "#X_train = np.concatenate((X_train_negatives[0:200], X_train_positives[0:10]))\n",
    "#y_train = np.concatenate((y_train_negatives[0:200], y_train_positives[0:10]))\n",
    "nsamples, nx, ny = X_train.shape\n",
    "print(nsamples,nx,ny)\n",
    "\n",
    "p2_filelist = glob.glob(\"../data/train_data/*2p*\")[100:200]\n",
    "X_test, y_test = load_data(p2_filelist)\n",
    "nsamples, nx, ny = X_test.shape\n",
    "print(nsamples,nx,ny)"
   ]
  },
  {
   "cell_type": "code",
   "execution_count": 4,
   "metadata": {},
   "outputs": [
    {
     "name": "stdout",
     "output_type": "stream",
     "text": [
      "Percent positive samples:\n"
     ]
    },
    {
     "data": {
      "text/plain": [
       "19.333333333333332"
      ]
     },
     "execution_count": 4,
     "metadata": {},
     "output_type": "execute_result"
    }
   ],
   "source": [
    "print(\"Percent positive samples:\")\n",
    "len(y_train[y_train == 1])/len(y_train)*100"
   ]
  },
  {
   "cell_type": "code",
   "execution_count": 5,
   "metadata": {},
   "outputs": [],
   "source": [
    "# make the data set into one dataset that can go into dataloader\n",
    "train_ds = []\n",
    "for i in range(len(X_train)):\n",
    "    train_ds.append([np.transpose(X_train[i]), y_train[i]])"
   ]
  },
  {
   "cell_type": "code",
   "execution_count": 6,
   "metadata": {},
   "outputs": [],
   "source": [
    "test_ds = []\n",
    "for i in range(len(X_test)):\n",
    "    test_ds.append([np.transpose(X_test[i]), y_test[i]])"
   ]
  },
  {
   "cell_type": "code",
   "execution_count": 7,
   "metadata": {},
   "outputs": [],
   "source": [
    "bat_size = 128\n",
    "train_ldr = torch.utils.data.DataLoader(train_ds,batch_size=bat_size, shuffle=True)"
   ]
  },
  {
   "cell_type": "code",
   "execution_count": 8,
   "metadata": {},
   "outputs": [],
   "source": [
    "bat_size = 128\n",
    "test_ldr = torch.utils.data.DataLoader(test_ds,batch_size=bat_size, shuffle=True)"
   ]
  },
  {
   "cell_type": "code",
   "execution_count": 9,
   "metadata": {},
   "outputs": [],
   "source": [
    "# Set device\n",
    "device = torch.device(\"cuda\" if torch.cuda.is_available() else \"cpu\")"
   ]
  },
  {
   "cell_type": "markdown",
   "metadata": {},
   "source": [
    "# Model"
   ]
  },
  {
   "cell_type": "code",
   "execution_count": 17,
   "metadata": {},
   "outputs": [],
   "source": [
    "# Hyperparameters\n",
    "input_size = 420\n",
    "num_classes = 1\n",
    "learning_rate = 0.001\n",
    "\n",
    "class Net(nn.Module):\n",
    "    def __init__(self, input_size, num_classes):\n",
    "        super(Net, self).__init__()\n",
    "        \n",
    "        self.conv1 = nn.Conv1d(in_channels=142, out_channels=100, kernel_size=3, stride=2, padding=1)\n",
    "        self.pool = nn.MaxPool1d(kernel_size=2, stride=2)\n",
    "        self.conv1_bn = nn.BatchNorm1d(100)\n",
    "        self.conv2 = nn.Conv1d(in_channels=100, out_channels=50, kernel_size=3, stride=2, padding=1)\n",
    "        self.fc1 = nn.Linear(1300,10)\n",
    "        self.fc2 = nn.Linear(10, num_classes)\n",
    "\n",
    "    def forward(self, x):\n",
    "        \n",
    "        x = self.pool(F.relu(self.conv1(x)))\n",
    "        x = self.conv1_bn(x) \n",
    "        x = self.pool(F.relu(self.conv2(x)))\n",
    "        x = x.view(x.size(0), -1)\n",
    "        x = F.relu(self.fc1(x))\n",
    "        #x = torch.sigmoid(self.fc2(x)) \n",
    "        x =self.fc2(x)\n",
    "        \n",
    "        return x\n",
    "    \n",
    "# Initialize network\n",
    "net = Net(input_size=input_size, num_classes=num_classes).to(device)"
   ]
  },
  {
   "cell_type": "code",
   "execution_count": 21,
   "metadata": {},
   "outputs": [],
   "source": [
    "# Hyperparameters\n",
    "num_classes = 1\n",
    "learning_rate = 0.01\n",
    "class Net(nn.Module):\n",
    "    def __init__(self,  num_classes):\n",
    "        super(Net, self).__init__()\n",
    "        self.conv1 = nn.Conv1d(in_channels=142, out_channels=100, kernel_size=3, stride=2, padding=1)\n",
    "        torch.nn.init.kaiming_uniform_(self.conv1.weight)\n",
    "        self.pool = nn.MaxPool1d(kernel_size=2, stride=2)\n",
    "        self.conv1_bn = nn.BatchNorm1d(100)\n",
    "        self.conv2 = nn.Conv1d(in_channels=100, out_channels=50, kernel_size=3, stride=2, padding=1)\n",
    "        torch.nn.init.kaiming_uniform_(self.conv2.weight)\n",
    "        self.conv2_bn = nn.BatchNorm1d(50)\n",
    "        self.fc1 = nn.Linear(1300,225)\n",
    "        torch.nn.init.kaiming_uniform_(self.fc1.weight)\n",
    "        self.fc2 = nn.Linear(225,10)\n",
    "        torch.nn.init.kaiming_uniform_(self.fc2.weight)\n",
    "        self.fc3 = nn.Linear(10, num_classes)\n",
    "        torch.nn.init.xavier_uniform_(self.fc3.weight)\n",
    "    def forward(self, x):\n",
    "        #print(x.size())\n",
    "        x = self.pool(F.relu(self.conv1(x)))\n",
    "        x = self.conv1_bn(x)\n",
    "        x = self.pool(F.relu(self.conv2(x)))\n",
    "        x = self.conv2_bn(x)\n",
    "        x = x.view(x.size(0), -1)\n",
    "        x = F.relu(self.fc1(x))\n",
    "        x = F.relu(self.fc2(x))\n",
    "        x = torch.sigmoid(self.fc3(x))\n",
    "        return x\n",
    "# Initialize network\n",
    "net = Net(num_classes=num_classes).to(device)"
   ]
  },
  {
   "cell_type": "code",
   "execution_count": 22,
   "metadata": {},
   "outputs": [],
   "source": [
    "# Loss and optimizer\n",
    "criterion = nn.BCELoss() \n",
    "optimizer = optim.SGD(net.parameters(), lr=learning_rate)\n",
    "\n"
   ]
  },
  {
   "cell_type": "code",
   "execution_count": null,
   "metadata": {},
   "outputs": [
    {
     "name": "stdout",
     "output_type": "stream",
     "text": [
      "1\n",
      "2\n",
      "3\n",
      "4\n",
      "5\n"
     ]
    }
   ],
   "source": [
    "# Training the model\n",
    "num_epochs = 10 #100\n",
    "\n",
    "\n",
    "train_acc, train_loss = [], []\n",
    "valid_acc, valid_loss = [], []\n",
    "cur_loss = 0\n",
    "losses = []\n",
    "loss_val = 0\n",
    "val_losses = []\n",
    "\n",
    "valid_acc_test = []\n",
    "\n",
    "for epoch in range(num_epochs):\n",
    "    print(epoch+1)\n",
    "    cur_loss = 0\n",
    "    val_loss = 0\n",
    "    \n",
    "    net.train()\n",
    "    train_preds, train_targs = [], [] \n",
    "    for batch_idx, (data, target) in enumerate(train_ldr):\n",
    "        X_batch =  data.float().clone().detach().requires_grad_(True)\n",
    "        target_batch = torch.tensor(np.array(target), dtype = torch.float).unsqueeze(1)\n",
    "\n",
    "        optimizer.zero_grad()\n",
    "        output = net(X_batch)\n",
    "        batch_loss = criterion(output, target_batch) \n",
    "        batch_loss.backward()\n",
    "        optimizer.step()\n",
    "        \n",
    "        #preds = np.round(output.detach())\n",
    "        preds = np.round(output.detach())\n",
    "        train_targs += list(np.array(target_batch))\n",
    "        train_preds += list(preds.data.numpy())\n",
    "        cur_loss += batch_loss   \n",
    "\n",
    "    losses.append(cur_loss / len(X_train))\n",
    "        \n",
    "    \n",
    "    net.eval()\n",
    "    ### Evaluate validation\n",
    "    val_preds, val_targs = [], []\n",
    "    with torch.no_grad():\n",
    "        for batch_idx, (data, target) in enumerate(test_ldr): ###\n",
    "            x_batch_val = data.float().clone().detach()#.unsqueeze(1)\n",
    "            y_batch_val = target.float().clone().detach().unsqueeze(1)\n",
    "            output = net(x_batch_val)\n",
    "            val_batch_loss = criterion(output, y_batch_val)\n",
    "            #preds = np.round(output.detach())\n",
    "            preds = np.round(output.detach())\n",
    "            val_preds += list(preds.data.numpy()) \n",
    "            val_targs += list(np.array(y_batch_val))\n",
    "            val_loss += val_batch_loss  \n",
    "            \n",
    "        val_losses.append(val_loss / len(X_test))\n",
    "        \n",
    "        train_acc_cur = accuracy_score(train_targs, train_preds)  \n",
    "        valid_acc_cur = accuracy_score(val_targs, val_preds) \n",
    "\n",
    "        train_acc.append(train_acc_cur)\n",
    "        valid_acc.append(valid_acc_cur)\n",
    "\n",
    "epoch = np.arange(1,len(train_acc)+1)\n",
    "plt.figure()\n",
    "plt.plot(epoch, train_acc, 'r', epoch, valid_acc, 'b')\n",
    "plt.legend(['Train Accucary','Validation Accuracy'])\n",
    "plt.xlabel('Epoch'), plt.ylabel('Acc')\n",
    "#plt.savefig('/home/projects/ht3_aim/people/alsj/cd4cd8/data/figures/alpha/CNN_Accuracy.png')\n",
    "\n",
    "\n",
    "epoch = np.arange(1,len(train_acc)+1)\n",
    "plt.figure()\n",
    "plt.plot(epoch, losses, 'r', epoch, val_losses, 'b')\n",
    "plt.legend(['Train Loss','Validation Loss'])\n",
    "plt.xlabel('Epoch'), plt.ylabel('Loss')\n",
    "#plt.savefig('/home/projects/ht3_aim/people/alsj/cd4cd8/data/figures/alpha/CNN_Loss.png')\n"
   ]
  },
  {
   "cell_type": "code",
   "execution_count": 18,
   "metadata": {},
   "outputs": [
    {
     "data": {
      "text/plain": [
       "array([[  0, 242],\n",
       "       [  0,  58]])"
      ]
     },
     "execution_count": 18,
     "metadata": {},
     "output_type": "execute_result"
    }
   ],
   "source": [
    "confusion_matrix(train_targs, train_preds)"
   ]
  },
  {
   "cell_type": "code",
   "execution_count": 19,
   "metadata": {},
   "outputs": [
    {
     "data": {
      "text/plain": [
       "array([[ 0, 88],\n",
       "       [ 0, 12]])"
      ]
     },
     "execution_count": 19,
     "metadata": {},
     "output_type": "execute_result"
    }
   ],
   "source": [
    "confusion_matrix(val_targs, val_preds)"
   ]
  },
  {
   "cell_type": "code",
   "execution_count": 27,
   "metadata": {},
   "outputs": [
    {
     "data": {
      "image/png": "[encoded data removed]",
      "text/plain": [
       "<Figure size 432x288 with 1 Axes>"
      ]
     },
     "metadata": {
      "needs_background": "light"
     },
     "output_type": "display_data"
    }
   ],
   "source": [
    "# ROC\n",
    "fpr, tpr, threshold = metrics.roc_curve(train_targs, train_preds)\n",
    "roc_auc = metrics.auc(fpr, tpr)\n",
    "\n",
    "# plot ROC\n",
    "import matplotlib.pyplot as plt\n",
    "plt.title('Receiver Operating Characteristic')\n",
    "plt.plot(fpr, tpr, 'b', label = 'AUC = %0.2f' % roc_auc)\n",
    "plt.legend(loc = 'lower right')\n",
    "plt.plot([0, 1], [0, 1],'r--')\n",
    "plt.xlim([0, 1])\n",
    "plt.ylim([0, 1])\n",
    "plt.ylabel('True Positive Rate')\n",
    "plt.xlabel('False Positive Rate')\n",
    "plt.show()"
   ]
  },
  {
   "cell_type": "code",
   "execution_count": 46,
   "metadata": {},
   "outputs": [
    {
     "data": {
      "image/png": "[encoded data removed]",
      "text/plain": [
       "<Figure size 432x288 with 1 Axes>"
      ]
     },
     "metadata": {
      "needs_background": "light"
     },
     "output_type": "display_data"
    }
   ],
   "source": [
    "# ROC\n",
    "fpr, tpr, threshold = metrics.roc_curve(val_targs, val_preds)\n",
    "roc_auc = metrics.auc(fpr, tpr)\n",
    "\n",
    "# plot ROC\n",
    "import matplotlib.pyplot as plt\n",
    "plt.title('Receiver Operating Characteristic')\n",
    "plt.plot(fpr, tpr, 'b', label = 'AUC = %0.2f' % roc_auc)\n",
    "plt.legend(loc = 'lower right')\n",
    "plt.plot([0, 1], [0, 1],'r--')\n",
    "plt.xlim([0, 1])\n",
    "plt.ylim([0, 1])\n",
    "plt.ylabel('True Positive Rate')\n",
    "plt.xlabel('False Positive Rate')\n",
    "plt.show()"
   ]
  },
  {
   "cell_type": "code",
   "execution_count": null,
   "metadata": {},
   "outputs": [],
   "source": []
  },
  {
   "cell_type": "code",
   "execution_count": null,
   "metadata": {},
   "outputs": [],
   "source": []
  },
  {
   "cell_type": "code",
   "execution_count": null,
   "metadata": {},
   "outputs": [],
   "source": []
  },
  {
   "cell_type": "code",
   "execution_count": null,
   "metadata": {},
   "outputs": [],
   "source": []
  },
  {
   "cell_type": "code",
   "execution_count": null,
   "metadata": {},
   "outputs": [],
   "source": []
  },
  {
   "cell_type": "code",
   "execution_count": null,
   "metadata": {},
   "outputs": [],
   "source": []
  },
  {
   "cell_type": "code",
   "execution_count": null,
   "metadata": {},
   "outputs": [],
   "source": []
  }
 ],
 "metadata": {
  "kernelspec": {
   "display_name": "Python 3",
   "language": "python",
   "name": "python3"
  },
  "language_info": {
   "codemirror_mode": {
    "name": "ipython",
    "version": 3
   },
   "file_extension": ".py",
   "mimetype": "text/x-python",
   "name": "python",
   "nbconvert_exporter": "python",
   "pygments_lexer": "ipython3",
   "version": "3.8.5"
  }
 },
 "nbformat": 4,
 "nbformat_minor": 4
}
