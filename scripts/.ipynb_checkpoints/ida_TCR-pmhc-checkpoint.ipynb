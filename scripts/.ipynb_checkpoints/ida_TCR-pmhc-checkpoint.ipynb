{
 "cells": [
  {
   "cell_type": "code",
   "execution_count": 1,
   "metadata": {},
   "outputs": [],
   "source": [
    "# Imports\n",
    "\n",
    "import numpy as np\n",
    "import matplotlib\n",
    "import matplotlib.pyplot as plt\n",
    "from sklearn import metrics\n",
    "from sklearn.metrics import f1_score, accuracy_score\n",
    "from sklearn.metrics import plot_confusion_matrix\n",
    "from sklearn.metrics import roc_auc_score\n",
    "from sklearn.metrics import roc_curve\n",
    "\n",
    "import torch\n",
    "import torchvision\n",
    "import torch.nn as nn  # All neural network modules, nn.Linear, nn.Conv2d, BatchNorm, Loss functions\n",
    "import torch.optim as optim  # For all Optimization algorithms, SGD, Adam, etc.\n",
    "import torch.nn.functional as F  # All functions that don't have any parameters\n",
    "#from torch.utils.data import (\n",
    "#    DataLoader,\n",
    "#)  # Gives easier dataset managment and creates mini batches\n",
    "import torchvision.datasets as datasets  # Has standard datasets we can import in a nice way\n",
    "import torchvision.transforms as transforms  # Transformations we can perform on our dataset"
   ]
  },
  {
   "cell_type": "code",
   "execution_count": null,
   "metadata": {},
   "outputs": [],
   "source": [
    "# Load data, this data will also be  used for the NN\n",
    "X_train = np.load(\"alpha94_test.npy\", allow_pickle=True)\n",
    "y_train = np.loadtxt('alpha94_label_test.txt')\n",
    "\n",
    "nsamples, nx, ny = X_train.shape\n",
    "print(nsamples,nx,ny)\n",
    "\n",
    "X_test = np.load(\"alpha94_val.npy\", allow_pickle=True)\n",
    "y_test = np.loadtxt('alpha94_label_val.txt')\n",
    "nsamples, nx, ny = X_test.shape\n",
    "print(nsamples,nx,ny)"
   ]
  },
  {
   "cell_type": "code",
   "execution_count": null,
   "metadata": {},
   "outputs": [],
   "source": [
    "# make the data set into one dataset that can go into dataloader\n",
    "train_ds = []\n",
    "for i in range(len(X_train)):\n",
    "    train_ds.append([X_train[i], y_train[i]])"
   ]
  },
  {
   "cell_type": "code",
   "execution_count": null,
   "metadata": {},
   "outputs": [],
   "source": [
    "test_ds = []\n",
    "for i in range(len(X_test)):\n",
    "    test_ds.append([X_test[i], y_test[i]])"
   ]
  },
  {
   "cell_type": "code",
   "execution_count": null,
   "metadata": {},
   "outputs": [],
   "source": [
    "bat_size = 128\n",
    "train_ldr = torch.utils.data.DataLoader(train_ds,batch_size=bat_size, shuffle=True)"
   ]
  },
  {
   "cell_type": "code",
   "execution_count": null,
   "metadata": {},
   "outputs": [],
   "source": [
    "bat_size = 128\n",
    "test_ldr = torch.utils.data.DataLoader(test_ds,batch_size=bat_size, shuffle=True)"
   ]
  },
  {
   "cell_type": "code",
   "execution_count": null,
   "metadata": {},
   "outputs": [],
   "source": [
    "# Set device\n",
    "device = torch.device(\"cuda\" if torch.cuda.is_available() else \"cpu\")"
   ]
  },
  {
   "cell_type": "markdown",
   "metadata": {},
   "source": [
    "# Model"
   ]
  },
  {
   "cell_type": "code",
   "execution_count": null,
   "metadata": {},
   "outputs": [],
   "source": [
    "# Hyperparameters\n",
    "input_size = 139\n",
    "num_classes = 1\n",
    "learning_rate = 0.001\n",
    "\n",
    "class Net(nn.Module):\n",
    "    def __init__(self, input_size, num_classes):\n",
    "        super(Net, self).__init__()\n",
    "        \n",
    "        self.conv1 = nn.Conv1d(in_channels=21, out_channels=100, kernel_size=3, stride=2, padding=1)\n",
    "        self.pool = nn.MaxPool1d(kernel_size=2, stride=2)\n",
    "        self.conv1_bn = nn.BatchNorm1d(100)\n",
    "        self.conv2 = nn.Conv1d(in_channels=100, out_channels=50, kernel_size=3, stride=2, padding=1)\n",
    "        self.fc1 = nn.Linear(50*9,10)\n",
    "        self.fc2 = nn.Linear(10, num_classes)\n",
    "        \n",
    "        \n",
    "\n",
    "    def forward(self, x):\n",
    "\n",
    "\n",
    "        x = self.pool(F.relu(self.conv1(x)))\n",
    "        x = self.conv1_bn(x) \n",
    "        x = self.pool(F.relu(self.conv2(x)))\n",
    "        x = x.view(x.size(0), -1)\n",
    "        x = F.relu(self.fc1(x))\n",
    "        x = torch.sigmoid(self.fc2(x)) \n",
    "\n",
    "        return x\n",
    "    \n",
    "\n",
    "    \n",
    "# Initialize network\n",
    "net = Net(input_size=input_size, num_classes=num_classes).to(device)"
   ]
  },
  {
   "cell_type": "code",
   "execution_count": null,
   "metadata": {},
   "outputs": [],
   "source": [
    "# Loss and optimizer\n",
    "criterion = nn.BCELoss(reduction=\"none\") \n",
    "optimizer = optim.SGD(net.parameters(), lr=learning_rate)\n",
    "\n"
   ]
  },
  {
   "cell_type": "code",
   "execution_count": null,
   "metadata": {},
   "outputs": [],
   "source": [
    "# Training the model\n",
    "num_epochs = 5 #100\n",
    "\n",
    "\n",
    "train_acc, train_loss = [], []\n",
    "valid_acc, valid_loss = [], []\n",
    "cur_loss = 0\n",
    "losses = []\n",
    "loss_val = 0\n",
    "val_losses = []\n",
    "\n",
    "valid_acc_test = []\n",
    "\n",
    "\n",
    "\n",
    "for epoch in range(num_epochs):\n",
    "    print(epoch+1)\n",
    "    cur_loss = 0\n",
    "    val_loss = 0\n",
    "    \n",
    "    \n",
    "    net.train()\n",
    "    train_preds, train_targs = [], [] \n",
    "    for batch_idx, (data, target) in enumerate(train_ldr):\n",
    "        X_batch =  data.float().clone().detach().requires_grad_(True)\n",
    "        target_batch = torch.tensor(np.array(target), dtype = torch.float).unsqueeze(1)\n",
    "\n",
    "        optimizer.zero_grad()\n",
    "        output = net(X_batch)\n",
    "        batch_loss = criterion(output, target_batch) \n",
    "        batch_loss.backward()\n",
    "        optimizer.step()\n",
    "        \n",
    "        preds = np.round(output.detach())\n",
    "        train_targs += list(np.array(target_batch))\n",
    "        train_preds += list(preds.data.numpy())\n",
    "        cur_loss += batch_loss   \n",
    "\n",
    "    losses.append(cur_loss / len(X_train))\n",
    "        \n",
    "    \n",
    "    net.eval()\n",
    "    ### Evaluate validation\n",
    "    val_preds, val_targs = [], []\n",
    "    with torch.no_grad():\n",
    "        for batch_idx, (data, target) in enumerate(test_ldr): ###\n",
    "            x_batch_val = data.float().clone().detach()#.unsqueeze(1)\n",
    "            y_batch_val = target.float().clone().detach().unsqueeze(1)\n",
    "            output = net(x_batch_val)\n",
    "            val_batch_loss = criterion(output, y_batch_val)\n",
    "            preds = np.round(output.detach())\n",
    "            val_preds += list(preds.data.numpy()) \n",
    "            val_targs += list(np.array(y_batch_val))\n",
    "            val_loss += val_batch_loss  \n",
    "            \n",
    "        val_losses.append(val_loss / len(X_test))\n",
    "        \n",
    "        train_acc_cur = accuracy_score(train_targs, train_preds)  \n",
    "        valid_acc_cur = accuracy_score(val_targs, val_preds) \n",
    "\n",
    "        train_acc.append(train_acc_cur)\n",
    "        valid_acc.append(valid_acc_cur)\n",
    "\n",
    "epoch = np.arange(1,len(train_acc)+1)\n",
    "plt.figure()\n",
    "plt.plot(epoch, train_acc, 'r', epoch, valid_acc, 'b')\n",
    "plt.legend(['Train Accucary','Validation Accuracy'])\n",
    "plt.xlabel('Epoch'), plt.ylabel('Acc')\n",
    "#plt.savefig('/home/projects/ht3_aim/people/alsj/cd4cd8/data/figures/alpha/CNN_Accuracy.png')\n",
    "\n",
    "\n",
    "epoch = np.arange(1,len(train_acc)+1)\n",
    "plt.figure()\n",
    "plt.plot(epoch, losses, 'r', epoch, val_losses, 'b')\n",
    "plt.legend(['Train Loss','Validation Loss'])\n",
    "plt.xlabel('Epoch'), plt.ylabel('Loss')\n",
    "#plt.savefig('/home/projects/ht3_aim/people/alsj/cd4cd8/data/figures/alpha/CNN_Loss.png')\n"
   ]
  },
  {
   "cell_type": "code",
   "execution_count": null,
   "metadata": {},
   "outputs": [],
   "source": [
    "# ROC\n",
    "fpr, tpr, threshold = metrics.roc_curve(train_targs, train_preds)\n",
    "roc_auc = metrics.auc(fpr, tpr)\n",
    "\n",
    "# plot ROC\n",
    "import matplotlib.pyplot as plt\n",
    "plt.title('Receiver Operating Characteristic')\n",
    "plt.plot(fpr, tpr, 'b', label = 'AUC = %0.2f' % roc_auc)\n",
    "plt.legend(loc = 'lower right')\n",
    "plt.plot([0, 1], [0, 1],'r--')\n",
    "plt.xlim([0, 1])\n",
    "plt.ylim([0, 1])\n",
    "plt.ylabel('True Positive Rate')\n",
    "plt.xlabel('False Positive Rate')\n",
    "plt.show()"
   ]
  },
  {
   "cell_type": "code",
   "execution_count": null,
   "metadata": {},
   "outputs": [],
   "source": [
    "# ROC\n",
    "fpr, tpr, threshold = metrics.roc_curve(val_targs, val_preds)\n",
    "roc_auc = metrics.auc(fpr, tpr)\n",
    "\n",
    "# plot ROC\n",
    "import matplotlib.pyplot as plt\n",
    "plt.title('Receiver Operating Characteristic')\n",
    "plt.plot(fpr, tpr, 'b', label = 'AUC = %0.2f' % roc_auc)\n",
    "plt.legend(loc = 'lower right')\n",
    "plt.plot([0, 1], [0, 1],'r--')\n",
    "plt.xlim([0, 1])\n",
    "plt.ylim([0, 1])\n",
    "plt.ylabel('True Positive Rate')\n",
    "plt.xlabel('False Positive Rate')\n",
    "plt.show()"
   ]
  },
  {
   "cell_type": "code",
   "execution_count": null,
   "metadata": {},
   "outputs": [],
   "source": []
  },
  {
   "cell_type": "code",
   "execution_count": null,
   "metadata": {},
   "outputs": [],
   "source": []
  },
  {
   "cell_type": "code",
   "execution_count": null,
   "metadata": {},
   "outputs": [],
   "source": []
  },
  {
   "cell_type": "code",
   "execution_count": null,
   "metadata": {},
   "outputs": [],
   "source": []
  },
  {
   "cell_type": "code",
   "execution_count": null,
   "metadata": {},
   "outputs": [],
   "source": []
  },
  {
   "cell_type": "code",
   "execution_count": null,
   "metadata": {},
   "outputs": [],
   "source": []
  },
  {
   "cell_type": "code",
   "execution_count": null,
   "metadata": {},
   "outputs": [],
   "source": []
  }
 ],
 "metadata": {
  "kernelspec": {
   "display_name": "Python 3",
   "language": "python",
   "name": "python3"
  },
  "language_info": {
   "codemirror_mode": {
    "name": "ipython",
    "version": 3
   },
   "file_extension": ".py",
   "mimetype": "text/x-python",
   "name": "python",
   "nbconvert_exporter": "python",
   "pygments_lexer": "ipython3",
   "version": "3.8.5"
  }
 },
 "nbformat": 4,
 "nbformat_minor": 4
}
